{
 "cells": [
  {
   "cell_type": "code",
   "execution_count": null,
   "metadata": {},
   "outputs": [],
   "source": [
    "# main things we need to do:\n",
    "# 0.⁠ ⁠prepare (collect data and clean) auth df - V\n",
    "# 0.⁠ ⁠prepare (collect data and clean) events_df - V\n",
    "# 0.⁠ ⁠preprocess auth df - fill null values\n",
    "# 1.⁠ ⁠run matching (match_and_plot)\n",
    "# 2.⁠ ⁠⁠check plots of different distance metrics results\n",
    "# 3.⁠ ⁠⁠run diff_in_diff analysis for target authorities and each event (conviction etc.) (calc_diff_in_diff)\n",
    "# 4.⁠ ⁠⁠check plots of DiD (compare_pred_true)\n",
    "# 5.⁠ ⁠⁠check if we see the same results across different events (conviction etc.)\n",
    "# 5.⁠ ⁠⁠check hyper params plot of DiD (plot_across_hyper_params)\n",
    "# 6.⁠ ⁠⁠run diff_in_diff analysis for placebo auth - sample some from the control group, sample year for treatment and run the same piepline\n",
    "# 7.⁠ ⁠⁠then - check that we dont see a major diff in diff there\n",
    "# 8.⁠ ⁠⁠summarize results\n",
    "# 9.⁠ ⁠⁠conclude in report"
   ]
  }
 ],
 "metadata": {
  "kernelspec": {
   "display_name": "Python 3",
   "language": "python",
   "name": "python3"
  },
  "language_info": {
   "name": "python",
   "version": "3.10.14"
  }
 },
 "nbformat": 4,
 "nbformat_minor": 2
}
